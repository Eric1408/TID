{
  "nbformat": 4,
  "nbformat_minor": 0,
  "metadata": {
    "colab": {
      "provenance": [],
      "toc_visible": true
    },
    "kernelspec": {
      "name": "python3",
      "display_name": "Python 3"
    },
    "language_info": {
      "name": "python"
    }
  },
  "cells": [
    {
      "cell_type": "markdown",
      "source": [
        "# Preprocesamiento de Datos\n",
        "Cargamos las librerias necesarias para la ejecucion de la practica.\n"
      ],
      "metadata": {
        "id": "T-p7DgU6cOF8"
      }
    },
    {
      "cell_type": "code",
      "source": [
        "import pandas as pd\n",
        "import seaborn as sns\n",
        "import matplotlib.pyplot as plt\n",
        "from sklearn.naive_bayes import GaussianNB\n",
        "from sklearn.metrics import confusion_matrix\n",
        "from sklearn.tree import DecisionTreeClassifier\n",
        "from sklearn.neighbors import KNeighborsClassifier\n",
        "from sklearn.model_selection import train_test_split\n",
        "from sklearn.preprocessing import LabelEncoder, RobustScaler\n",
        "from sklearn.metrics import classification_report, accuracy_score"
      ],
      "metadata": {
        "id": "lUAdsks5cl7i"
      },
      "execution_count": null,
      "outputs": []
    },
    {
      "cell_type": "markdown",
      "source": [
        "## Procesar la base de datos\n",
        "Para ello se eliminara la primera columna que no contiene información relevante para este proposito y se transformaran los tipos de datos **categoricos**"
      ],
      "metadata": {
        "id": "4l-DFzTzdefc"
      }
    },
    {
      "cell_type": "code",
      "source": [
        "def procesar_archivo_csv(archivo_csv):\n",
        "    # Lee el archivo CSV\n",
        "    df = pd.read_csv(archivo_csv)\n",
        "\n",
        "    # Ignora la primera columna\n",
        "    df = df.iloc[:, 1:]\n",
        "\n",
        "    # Convierte los valores categóricos a numéricos\n",
        "    le = LabelEncoder()\n",
        "    df = df.apply(lambda col: le.fit_transform(col.astype(str)), axis=0)\n",
        "\n",
        "    return df"
      ],
      "metadata": {
        "id": "p6_59OZWeyeg"
      },
      "execution_count": null,
      "outputs": []
    },
    {
      "cell_type": "markdown",
      "source": [
        "## Tratamiento de Outliers\n",
        "Estos valores son atípicos porque son inusualmente altos o bajos en comparación con la mayoría de las observaciones. La presencia de outliers puede afectar negativamente el rendimiento y la interpretación de los modelos estadísticos y de aprendizaje automático.\n",
        "\n",
        "Trataremos los outliers por **eliminación**"
      ],
      "metadata": {
        "id": "nNTz7jOmcxIc"
      }
    },
    {
      "cell_type": "code",
      "source": [
        "def eliminar_outliers(data):\n",
        "    columnas_categoricas = ['Married', 'Gender', 'Education', 'SelfEmployed', 'PropertyArea', 'LoanStatus', 'Dependents']\n",
        "    columnas_no_categoricas = [col for col in data.columns if col not in columnas_categoricas]\n",
        "    for col in columnas_no_categoricas:\n",
        "        Q1 = data[col].quantile(0.25)\n",
        "        Q3 = data[col].quantile(0.75)\n",
        "        IQR = Q3 - Q1\n",
        "\n",
        "        # Solo conserva las filas que no son outliers\n",
        "        data = data[~((data[col] < (Q1 - 20 * IQR)) | (data[col] > (Q3 + 20 * IQR)))]\n",
        "\n",
        "    return data"
      ],
      "metadata": {
        "id": "cnWwW_dVc-GE"
      },
      "execution_count": null,
      "outputs": []
    },
    {
      "cell_type": "markdown",
      "source": [
        "## Clase balanceada\n",
        "Algoritmo que permite saber si se tratan de clases balanceadas o no"
      ],
      "metadata": {
        "id": "xkwgdOVGe_tR"
      }
    },
    {
      "cell_type": "code",
      "source": [
        "def es_clase_balanceada(y, umbral=0.1):\n",
        "    # Calcula la frecuencia de cada clase\n",
        "    conteo_clases = y.value_counts()\n",
        "\n",
        "    # Calcula la proporción de cada clase en relación con la clase mayoritaria\n",
        "    proporciones = conteo_clases / conteo_clases.max()\n",
        "\n",
        "    # Verifica si la diferencia en las proporciones es menor al umbral\n",
        "    balanceada = all(abs(proporciones - 1) < umbral)\n",
        "\n",
        "    return balanceada"
      ],
      "metadata": {
        "id": "UNEzAsXtfLeM"
      },
      "execution_count": null,
      "outputs": []
    },
    {
      "cell_type": "markdown",
      "source": [
        "### Algoritmo SMOTE"
      ],
      "metadata": {
        "id": "CYnzAqamgiIk"
      }
    },
    {
      "cell_type": "code",
      "source": [
        "def aplicar_smote(df, target_column):\n",
        "    # Divide el DataFrame en características (X) y etiquetas (y)\n",
        "    X = df.drop(target_column, axis=1)\n",
        "    y = df[target_column]\n",
        "\n",
        "    # Aplica SMOTE a las características y etiquetas\n",
        "    smote = SMOTE(sampling_strategy='auto', random_state=42)\n",
        "    X_resampled, y_resampled = smote.fit_resample(X, y)\n",
        "\n",
        "    # Combina las características y etiquetas resampleadas en un nuevo DataFrame\n",
        "    df_resampled = pd.concat([pd.DataFrame(X_resampled, columns=X.columns), pd.Series(y_resampled, name=target_column)], axis=1)\n",
        "\n",
        "    return df_resampled"
      ],
      "metadata": {
        "id": "EaQfuJgLglv0"
      },
      "execution_count": null,
      "outputs": []
    },
    {
      "cell_type": "markdown",
      "source": [
        "## Tratamiento de valores ausentes\n",
        "Para tratar los valores nulos o valores ausentes he escogido la tecnica de **k-Means Clustering Imputation** en esta estrategia, las observaciones se agrupan en clústeres utilizando el algoritmo k-means. Luego, los valores ausentes se imputan utilizando la media o mediana del clúster al que pertenece la observación. Puede ser útil cuando hay patrones estructurados en los datos.\n",
        "\n",
        "Explicare brevemente en consisten las demas técnicas.\n",
        "\n",
        "1. **Valor Más Común en el Concepto (Most Common Value in Concept):** Similar a la estrategia anterior, pero aquí se considera el valor más común dentro de un subconjunto específico o concepto relacionado con la observación que tiene el valor faltante. Puede ser útil en situaciones donde la variabilidad de los datos es alta.\n",
        "2. **k-Nearest Neighbor Imputation (kNNI):** Esta técnica utiliza la información de las observaciones más cercanas (vecinos más cercanos) para imputar el valor faltante. Se calcula la similitud entre observaciones y se asigna el valor basándose en los k vecinos más cercanos. Es eficaz para datos continuos y puede preservar patrones más complejos.\n",
        "3. **Valor Más Común (Most Common Value):** En esta técnica, los valores ausentes se llenan con el valor más frecuente presente en la variable correspondiente. Es una opción sencilla y rápida, adecuada cuando la variable es categórica o discreta.\n"
      ],
      "metadata": {
        "id": "_LW6tgxtfQ7C"
      }
    },
    {
      "cell_type": "markdown",
      "source": [
        "### Eliminación de valores ausentes"
      ],
      "metadata": {
        "id": "HFgmFybSf8vW"
      }
    },
    {
      "cell_type": "code",
      "source": [
        "def eliminar_filas_nulas(df):\n",
        "    # Elimina las filas con valores nulos\n",
        "    df_sin_nulos = df.dropna()\n",
        "\n",
        "    return df_sin_nulos"
      ],
      "metadata": {
        "id": "oF2v0TVXgE0A"
      },
      "execution_count": null,
      "outputs": []
    },
    {
      "cell_type": "markdown",
      "source": [
        "### k-Means Clustering Imputation"
      ],
      "metadata": {
        "id": "mpVySHxrgLm1"
      }
    },
    {
      "cell_type": "code",
      "source": [
        "def imputar_kmeans(df, n_clusters=5):\n",
        "    # Encuentra los clusters usando K-Means\n",
        "    kmeans = KMeans(n_clusters=n_clusters, n_init=10, random_state=42)\n",
        "    clusters = kmeans.fit_predict(df.dropna())\n",
        "\n",
        "    # Asigna el cluster a cada fila con valor nulo\n",
        "    df_imputado = df.copy()\n",
        "    df_imputado[df.isnull()] = kmeans.cluster_centers_[kmeans.predict(df.isnull().astype(int))]\n",
        "\n",
        "    return df_imputado"
      ],
      "metadata": {
        "id": "2DIF4KdMgZif"
      },
      "execution_count": null,
      "outputs": []
    },
    {
      "cell_type": "markdown",
      "source": [
        "## Ejecución\n",
        "\n"
      ],
      "metadata": {
        "id": "QEklF83Qgdaz"
      }
    },
    {
      "cell_type": "code",
      "source": [
        "# Ejemplo de uso\n",
        "archivo_csv = 'datos.csv'\n",
        "df_original = procesar_archivo_csv(archivo_csv)"
      ],
      "metadata": {
        "id": "jsjTVzGOhYpH"
      },
      "execution_count": null,
      "outputs": []
    },
    {
      "cell_type": "markdown",
      "source": [
        "### Tratando los datos"
      ],
      "metadata": {
        "id": "DhueGWHahGxC"
      }
    },
    {
      "cell_type": "code",
      "source": [
        "# Selecciona la columna de etiquetas (ajusta según tus necesidades)\n",
        "loanStatus = df_original['LoanStatus']\n",
        "\n",
        "# Verifica si la clase está balanceada\n",
        "balanceada = es_clase_balanceada(loanStatus)\n",
        "\n",
        "if balanceada:\n",
        "    print(\"La clase está balanceada.\")\n",
        "else:\n",
        "    print(\"La clase no está balanceada.\")\n",
        "\n",
        "# Tratar outliers\n",
        "df_tratado = eliminar_outliers(df_original)\n",
        "\n",
        "# Imputar valores nulos mediante K-Means\n",
        "df_imputado_kmeans = imputar_kmeans(df_tratado)\n",
        "\n",
        "# Aplicar SMOTE al DataFrame\n",
        "variable = 'LoanStatus'\n",
        "df_resampled = aplicar_smote(df_imputado_kmeans, variable)"
      ],
      "metadata": {
        "colab": {
          "base_uri": "https://localhost:8080/"
        },
        "id": "uYEWApskg_Ru",
        "outputId": "cadbf30e-61d5-4c53-cef4-99abf443cee7"
      },
      "execution_count": null,
      "outputs": [
        {
          "output_type": "stream",
          "name": "stdout",
          "text": [
            "La clase no está balanceada.\n"
          ]
        }
      ]
    },
    {
      "cell_type": "markdown",
      "source": [
        "### Sin tratar los datos"
      ],
      "metadata": {
        "id": "hRRXlEHBjys2"
      }
    },
    {
      "cell_type": "code",
      "source": [
        "# Eliminar filas con valores nulos\n",
        "df_sin_nulos = eliminar_filas_nulas(df_original)"
      ],
      "metadata": {
        "id": "_zj9EOD5j1DW"
      },
      "execution_count": null,
      "outputs": []
    },
    {
      "cell_type": "markdown",
      "source": [
        "# Calsificadores\n",
        "\n",
        "Los clasificadores son algoritmos que se utilizan para asignar categorías o etiquetas a datos no etiquetados basándose en patrones aprendidos a partir de datos previamente etiquetados."
      ],
      "metadata": {
        "id": "J_NBeoXRj6jY"
      }
    },
    {
      "cell_type": "markdown",
      "source": [
        "## Preparación\n"
      ],
      "metadata": {
        "id": "tOBbHr8NlMm4"
      }
    },
    {
      "cell_type": "code",
      "source": [
        "def preparar_datos(df, target_column):\n",
        "    # Divide el DataFrame en características (X) y etiquetas (y)\n",
        "    X = df.drop(target_column, axis=1)\n",
        "    y = df[target_column]\n",
        "\n",
        "    # Divide los datos en conjuntos de entrenamiento y prueba\n",
        "    X_train, X_test, y_train, y_test = train_test_split(X, y, test_size=0.2, random_state=42)\n",
        "\n",
        "    return X_train, X_test, y_train, y_test"
      ],
      "metadata": {
        "id": "azsX2kWslTfM"
      },
      "execution_count": null,
      "outputs": []
    },
    {
      "cell_type": "markdown",
      "source": [
        "## Clasificador k-NN"
      ],
      "metadata": {
        "id": "VXQckUA3mKa3"
      }
    },
    {
      "cell_type": "code",
      "source": [
        "def construir_knn(X_train, y_train, n_neighbors=3):\n",
        "    # Construye el clasificador k-NN\n",
        "    knn_classifier = KNeighborsClassifier(n_neighbors=n_neighbors)\n",
        "\n",
        "    # Ajusta el modelo al conjunto de entrenamiento\n",
        "    knn_classifier.fit(X_train, y_train)\n",
        "\n",
        "    return knn_classifier"
      ],
      "metadata": {
        "id": "py0hjd-TmmsA"
      },
      "execution_count": null,
      "outputs": []
    },
    {
      "cell_type": "markdown",
      "source": [
        "## Clasificador Árbol de clasificación"
      ],
      "metadata": {
        "id": "xKWZXADUmoii"
      }
    },
    {
      "cell_type": "code",
      "source": [
        "def construir_arbol_clasificacion(X_train, y_train, max_depth=None):\n",
        "    # Construye el árbol de clasificación\n",
        "    tree_classifier = DecisionTreeClassifier(max_depth=max_depth, random_state=42)\n",
        "\n",
        "    # Ajusta el modelo al conjunto de entrenamiento\n",
        "    tree_classifier.fit(X_train, y_train)\n",
        "\n",
        "    return tree_classifier"
      ],
      "metadata": {
        "id": "har0irLwmwWU"
      },
      "execution_count": null,
      "outputs": []
    },
    {
      "cell_type": "markdown",
      "source": [
        "## Clasificador Naive bayes"
      ],
      "metadata": {
        "id": "YUFN_2a4m0Vs"
      }
    },
    {
      "cell_type": "code",
      "source": [
        "def construir_naive_bayes(X_train, y_train):\n",
        "    # Construye el clasificador Naive Bayes (Gaussian)\n",
        "    naive_bayes_classifier = GaussianNB()\n",
        "\n",
        "    # Ajusta el modelo al conjunto de entrenamiento\n",
        "    naive_bayes_classifier.fit(X_train, y_train)\n",
        "\n",
        "    return naive_bayes_classifier"
      ],
      "metadata": {
        "id": "bGkflP74m4fW"
      },
      "execution_count": null,
      "outputs": []
    },
    {
      "cell_type": "markdown",
      "source": [
        "## Evaluar Clasificadores"
      ],
      "metadata": {
        "id": "6EyEw9_rp118"
      }
    },
    {
      "cell_type": "code",
      "source": [
        "def imprimir_matriz_confusion(y_real, y_pred, labels=None):\n",
        "    \"\"\"\n",
        "    Imprime la matriz de confusión.\n",
        "\n",
        "    Parameters:\n",
        "    - y_real: Etiquetas reales.\n",
        "    - y_pred: Etiquetas predichas.\n",
        "    - labels: Lista de etiquetas de clases. Si no se proporciona, se infiere de las etiquetas reales y predichas.\n",
        "    \"\"\"\n",
        "    if labels is None:\n",
        "        labels = sorted(set(y_real) | set(y_pred))\n",
        "\n",
        "    matriz_confusion = confusion_matrix(y_real, y_pred, labels=labels)\n",
        "\n",
        "    plt.figure(figsize=(len(labels), len(labels)))\n",
        "    sns.heatmap(matriz_confusion, annot=True, fmt=\"d\", cmap=\"Blues\", xticklabels=labels, yticklabels=labels)\n",
        "    plt.xlabel('Predicted')\n",
        "    plt.ylabel('Actual')\n",
        "    plt.title('Matriz de Confusión')\n",
        "    plt.show()\n",
        "\n",
        "def evaluar_clasificador(clasificador, X_train, y_train, X_test, y_test, nombre_clasificador):\n",
        "    # Entrenar el clasificador\n",
        "    clasificador.fit(X_train, y_train)\n",
        "\n",
        "    # Realizar predicciones\n",
        "    y_pred = clasificador.predict(X_test)\n",
        "\n",
        "    # Imprimir métricas adicionales\n",
        "    print(f\"\\nMétricas para el clasificador {nombre_clasificador}:\")\n",
        "    print(classification_report(y_test, y_pred))\n",
        "    accuracy = accuracy_score(y_test, y_pred)\n",
        "    print(f\"Precisión global (accuracy): {accuracy:.4f}\")\n",
        "\n",
        "    # Imprimir la matriz de confusión\n",
        "    imprimir_matriz_confusion(y_test, y_pred, labels=clasificador.classes_)\n"
      ],
      "metadata": {
        "id": "mJHrYSwzp-lC"
      },
      "execution_count": null,
      "outputs": []
    },
    {
      "cell_type": "markdown",
      "source": [
        "### Evaluación tratando los datos"
      ],
      "metadata": {
        "id": "D-hPc6STp5lC"
      }
    },
    {
      "cell_type": "code",
      "source": [
        "# Separar características (X) y etiquetas (y)\n",
        "X = df_resampled.drop('LoanStatus', axis=1)\n",
        "y = df_resampled['LoanStatus']\n",
        "\n",
        "# Dividir el conjunto de datos en entrenamiento y prueba\n",
        "X_train, X_test, y_train, y_test = train_test_split(X, y, test_size=0.2, random_state=42)\n",
        "\n",
        "# Clasificadores para Base de Datos Tratada\n",
        "print(\"\\nClasificadores para Base de Datos Tratada (preprocesada):\")\n",
        "\n",
        "# Crear y evaluar el clasificador k-NN\n",
        "knn_clasificador = KNeighborsClassifier(n_neighbors=5)\n",
        "evaluar_clasificador(knn_clasificador, X_train, y_train, X_test, y_test, \"k-NN\")\n",
        "\n",
        "# Crear y evaluar el árbol de clasificación\n",
        "arbol_clasificador = DecisionTreeClassifier(random_state=42)\n",
        "evaluar_clasificador(arbol_clasificador, X_train, y_train, X_test, y_test, \"Árbol de Clasificación\")\n",
        "\n",
        "# Crear y evaluar el clasificador Naive Bayes\n",
        "naive_bayes_clasificador = GaussianNB()\n",
        "evaluar_clasificador(naive_bayes_clasificador, X_train, y_train, X_test, y_test, \"Naive Bayes\")"
      ],
      "metadata": {
        "colab": {
          "base_uri": "https://localhost:8080/",
          "height": 1000
        },
        "id": "UM6vU99Vp8yd",
        "outputId": "d923c91e-069c-4450-d067-1ccec23522bb"
      },
      "execution_count": null,
      "outputs": [
        {
          "output_type": "stream",
          "name": "stdout",
          "text": [
            "\n",
            "Clasificadores para Base de Datos Tratada (preprocesada):\n",
            "\n",
            "Métricas para el clasificador k-NN:\n",
            "              precision    recall  f1-score   support\n",
            "\n",
            "           0       0.66      0.83      0.73        69\n",
            "           1       0.79      0.60      0.68        75\n",
            "\n",
            "    accuracy                           0.71       144\n",
            "   macro avg       0.72      0.71      0.71       144\n",
            "weighted avg       0.73      0.71      0.71       144\n",
            "\n",
            "Precisión global (accuracy): 0.7083\n"
          ]
        },
        {
          "output_type": "display_data",
          "data": {
            "text/plain": [
              "<Figure size 200x200 with 2 Axes>"
            ],
            "image/png": "[encoded data removed]"
          },
          "metadata": {}
        },
        {
          "output_type": "stream",
          "name": "stdout",
          "text": [
            "\n",
            "Métricas para el clasificador Árbol de Clasificación:\n",
            "              precision    recall  f1-score   support\n",
            "\n",
            "           0       0.62      0.83      0.71        69\n",
            "           1       0.77      0.53      0.63        75\n",
            "\n",
            "    accuracy                           0.67       144\n",
            "   macro avg       0.69      0.68      0.67       144\n",
            "weighted avg       0.70      0.67      0.67       144\n",
            "\n",
            "Precisión global (accuracy): 0.6736\n"
          ]
        },
        {
          "output_type": "display_data",
          "data": {
            "text/plain": [
              "<Figure size 200x200 with 2 Axes>"
            ],
            "image/png": "[encoded data removed]"
          },
          "metadata": {}
        },
        {
          "output_type": "stream",
          "name": "stdout",
          "text": [
            "\n",
            "Métricas para el clasificador Naive Bayes:\n",
            "              precision    recall  f1-score   support\n",
            "\n",
            "           0       0.63      0.72      0.68        69\n",
            "           1       0.71      0.61      0.66        75\n",
            "\n",
            "    accuracy                           0.67       144\n",
            "   macro avg       0.67      0.67      0.67       144\n",
            "weighted avg       0.67      0.67      0.67       144\n",
            "\n",
            "Precisión global (accuracy): 0.6667\n"
          ]
        },
        {
          "output_type": "display_data",
          "data": {
            "text/plain": [
              "<Figure size 200x200 with 2 Axes>"
            ],
            "image/png": "[encoded data removed]"
          },
          "metadata": {}
        }
      ]
    },
    {
      "cell_type": "markdown",
      "source": [
        "### Evaluación sin tratar los datos"
      ],
      "metadata": {
        "id": "qwJo_ahjqN0i"
      }
    },
    {
      "cell_type": "code",
      "source": [
        "# Clasificadores para Base de Datos sin Tratar\n",
        "print(\"\\nClasificadores para Base de Datos sin Tratar:\")\n",
        "\n",
        "# Separar características (X) y etiquetas (y)\n",
        "X = df_sin_nulos.drop('LoanStatus', axis=1)\n",
        "y = df_sin_nulos['LoanStatus']\n",
        "\n",
        "# Dividir el conjunto de datos en entrenamiento y prueba\n",
        "X_train, X_test, y_train, y_test = train_test_split(X, y, test_size=0.2, random_state=42)\n",
        "\n",
        "# Crear y evaluar el clasificador k-NN\n",
        "knn_clasificador = KNeighborsClassifier(n_neighbors=5)\n",
        "evaluar_clasificador(knn_clasificador, X_train, y_train, X_test, y_test, \"k-NN\")\n",
        "\n",
        "# Crear y evaluar el árbol de clasificación\n",
        "arbol_clasificador = DecisionTreeClassifier(random_state=42)\n",
        "evaluar_clasificador(arbol_clasificador, X_train, y_train, X_test, y_test, \"Árbol de Clasificación\")\n",
        "\n",
        "# Crear y evaluar el clasificador Naive Bayes\n",
        "naive_bayes_clasificador = GaussianNB()\n",
        "evaluar_clasificador(naive_bayes_clasificador, X_train, y_train, X_test, y_test, \"Naive Bayes\")"
      ],
      "metadata": {
        "colab": {
          "base_uri": "https://localhost:8080/",
          "height": 1000
        },
        "id": "mqQicC1mqRdS",
        "outputId": "af2e2b6b-9ed1-4329-ac4b-84202b474ae7"
      },
      "execution_count": null,
      "outputs": [
        {
          "output_type": "stream",
          "name": "stdout",
          "text": [
            "\n",
            "Clasificadores para Base de Datos sin Tratar:\n",
            "\n",
            "Métricas para el clasificador k-NN:\n",
            "              precision    recall  f1-score   support\n",
            "\n",
            "           0       0.63      0.28      0.39        43\n",
            "           1       0.70      0.91      0.79        80\n",
            "\n",
            "    accuracy                           0.69       123\n",
            "   macro avg       0.67      0.60      0.59       123\n",
            "weighted avg       0.68      0.69      0.65       123\n",
            "\n",
            "Precisión global (accuracy): 0.6911\n"
          ]
        },
        {
          "output_type": "display_data",
          "data": {
            "text/plain": [
              "<Figure size 200x200 with 2 Axes>"
            ],
            "image/png": "[encoded data removed]"
          },
          "metadata": {}
        },
        {
          "output_type": "stream",
          "name": "stdout",
          "text": [
            "\n",
            "Métricas para el clasificador Árbol de Clasificación:\n",
            "              precision    recall  f1-score   support\n",
            "\n",
            "           0       0.30      0.28      0.29        43\n",
            "           1       0.63      0.65      0.64        80\n",
            "\n",
            "    accuracy                           0.52       123\n",
            "   macro avg       0.46      0.46      0.46       123\n",
            "weighted avg       0.51      0.52      0.52       123\n",
            "\n",
            "Precisión global (accuracy): 0.5203\n"
          ]
        },
        {
          "output_type": "display_data",
          "data": {
            "text/plain": [
              "<Figure size 200x200 with 2 Axes>"
            ],
            "image/png": "[encoded data removed]"
          },
          "metadata": {}
        },
        {
          "output_type": "stream",
          "name": "stdout",
          "text": [
            "\n",
            "Métricas para el clasificador Naive Bayes:\n",
            "              precision    recall  f1-score   support\n",
            "\n",
            "           0       0.56      0.12      0.19        43\n",
            "           1       0.67      0.95      0.78        80\n",
            "\n",
            "    accuracy                           0.66       123\n",
            "   macro avg       0.61      0.53      0.49       123\n",
            "weighted avg       0.63      0.66      0.58       123\n",
            "\n",
            "Precisión global (accuracy): 0.6585\n"
          ]
        },
        {
          "output_type": "display_data",
          "data": {
            "text/plain": [
              "<Figure size 200x200 with 2 Axes>"
            ],
            "image/png": "[encoded data removed]"
          },
          "metadata": {}
        }
      ]
    }
  ]
}